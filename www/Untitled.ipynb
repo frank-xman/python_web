{
 "cells": [
  {
   "cell_type": "code",
   "execution_count": 1,
   "metadata": {
    "scrolled": false
   },
   "outputs": [
    {
     "name": "stderr",
     "output_type": "stream",
     "text": [
      "INFO:root:found model: User :\n",
      "INFO:root:  found mapping: id ==> <orm.StringField object at 0x7f7b8adacd30>\n",
      "INFO:root:  found mapping: email ==> <orm.StringField object at 0x7f7b8adc6358>\n",
      "INFO:root:  found mapping: password ==> <orm.StringField object at 0x7f7b8adc67b8>\n",
      "INFO:root:  found mapping: admin ==> <orm.BooleanField object at 0x7f7b88061358>\n",
      "INFO:root:  found mapping: name ==> <orm.StringField object at 0x7f7b88061390>\n",
      "INFO:root:  found mapping: image ==> <orm.StringField object at 0x7f7b880613c8>\n",
      "INFO:root:  found mapping: created_at ==> <orm.FloatField object at 0x7f7b88061400>\n",
      "INFO:root:found model: Blog :\n",
      "INFO:root:  found mapping: id ==> <orm.StringField object at 0x7f7b8adacef0>\n",
      "INFO:root:  found mapping: user_id ==> <orm.StringField object at 0x7f7b8adace10>\n",
      "INFO:root:  found mapping: user_name ==> <orm.StringField object at 0x7f7b880614e0>\n",
      "INFO:root:  found mapping: user_image ==> <orm.StringField object at 0x7f7b88061550>\n",
      "INFO:root:  found mapping: name ==> <orm.StringField object at 0x7f7b88061438>\n",
      "INFO:root:  found mapping: summary ==> <orm.StringField object at 0x7f7b88061470>\n",
      "INFO:root:  found mapping: content ==> <orm.TextField object at 0x7f7b88061668>\n",
      "INFO:root:  found mapping: created_at ==> <orm.FloatField object at 0x7f7b880616d8>\n",
      "INFO:root:found model: Comment :\n",
      "INFO:root:  found mapping: id ==> <orm.StringField object at 0x7f7b8adaccf8>\n",
      "INFO:root:  found mapping: blog_id ==> <orm.StringField object at 0x7f7b880615c0>\n",
      "INFO:root:  found mapping: user_id ==> <orm.StringField object at 0x7f7b88061748>\n",
      "INFO:root:  found mapping: user_name ==> <orm.StringField object at 0x7f7b880617f0>\n",
      "INFO:root:  found mapping: user_image ==> <orm.StringField object at 0x7f7b88061588>\n",
      "INFO:root:  found mapping: content ==> <orm.TextField object at 0x7f7b88061710>\n",
      "INFO:root:  found mapping: created_at ==> <orm.FloatField object at 0x7f7b880618d0>\n"
     ]
    }
   ],
   "source": [
    "import time, uuid\n",
    "\n",
    "from orm import Model, StringField, BooleanField, FloatField, TextField\n",
    "\n",
    "def next_id():\n",
    "    return '%015d%s000' % (int(time.time() * 1000), uuid.uuid4().hex)\n",
    "\n",
    "class User(Model):\n",
    "    __table__ = 'users'\n",
    "\n",
    "    id = StringField(primary_key=True, default=next_id, ddl='varchar(50)')\n",
    "    email = StringField(ddl='varchar(50)')\n",
    "    password = StringField(ddl='varchar(50)')\n",
    "    admin = BooleanField()\n",
    "    name = StringField(ddl='varchar(50)')\n",
    "    image = StringField(ddl='varchar(500)')\n",
    "    created_at = FloatField(default=time.time)\n",
    "\n",
    "class Blog(Model):\n",
    "    __table__ = 'blogs'\n",
    "\n",
    "    id = StringField(primary_key=True, default=next_id, ddl='varchar(50)')\n",
    "    user_id = StringField(ddl='varchar(50)')\n",
    "    user_name = StringField(ddl='varchar(50)')\n",
    "    user_image = StringField(ddl='varchar(500)')\n",
    "    name = StringField(ddl='varchar(50)')\n",
    "    summary = StringField(ddl='varchar(200)')\n",
    "    content = TextField()\n",
    "    created_at = FloatField(default=time.time)\n",
    "\n",
    "class Comment(Model):\n",
    "    __table__ = 'comments'\n",
    "\n",
    "    id = StringField(primary_key=True, default=next_id, ddl='varchar(50)')\n",
    "    blog_id = StringField(ddl='varchar(50)')\n",
    "    user_id = StringField(ddl='varchar(50)')\n",
    "    user_name = StringField(ddl='varchar(50)')\n",
    "    user_image = StringField(ddl='varchar(500)')\n",
    "    content = TextField()\n",
    "    created_at = FloatField(default=time.time)\n",
    "\n"
   ]
  },
  {
   "cell_type": "code",
   "execution_count": 2,
   "metadata": {},
   "outputs": [
    {
     "name": "stdout",
     "output_type": "stream",
     "text": [
      "ERROR 1045 (28000): Access denied for user 'root'@'localhost' (using password: NO)\r\n"
     ]
    }
   ],
   "source": [
    "!mysql -u root <schema.sql"
   ]
  },
  {
   "cell_type": "code",
   "execution_count": 9,
   "metadata": {},
   "outputs": [
    {
     "ename": "RuntimeError",
     "evalue": "Event loop is closed",
     "output_type": "error",
     "traceback": [
      "\u001b[0;31m---------------------------------------------------------------------------\u001b[0m",
      "\u001b[0;31mRuntimeError\u001b[0m                              Traceback (most recent call last)",
      "\u001b[0;32m<ipython-input-9-ce58f8c76287>\u001b[0m in \u001b[0;36m<module>\u001b[0;34m()\u001b[0m\n\u001b[1;32m     11\u001b[0m \u001b[0;32mif\u001b[0m \u001b[0m__name__\u001b[0m\u001b[0;34m==\u001b[0m\u001b[0;34m'__main__'\u001b[0m\u001b[0;34m:\u001b[0m\u001b[0;34m\u001b[0m\u001b[0m\n\u001b[1;32m     12\u001b[0m     \u001b[0mloop\u001b[0m\u001b[0;34m=\u001b[0m\u001b[0masyncio\u001b[0m\u001b[0;34m.\u001b[0m\u001b[0mget_event_loop\u001b[0m\u001b[0;34m(\u001b[0m\u001b[0;34m)\u001b[0m\u001b[0;34m\u001b[0m\u001b[0m\n\u001b[0;32m---> 13\u001b[0;31m     \u001b[0mloop\u001b[0m\u001b[0;34m.\u001b[0m\u001b[0mrun_until_complete\u001b[0m\u001b[0;34m(\u001b[0m\u001b[0masyncio\u001b[0m\u001b[0;34m.\u001b[0m\u001b[0mwait\u001b[0m\u001b[0;34m(\u001b[0m\u001b[0;34m[\u001b[0m\u001b[0mtest\u001b[0m\u001b[0;34m(\u001b[0m\u001b[0mloop\u001b[0m\u001b[0;34m)\u001b[0m\u001b[0;34m]\u001b[0m\u001b[0;34m)\u001b[0m\u001b[0;34m)\u001b[0m\u001b[0;34m\u001b[0m\u001b[0m\n\u001b[0m\u001b[1;32m     14\u001b[0m     \u001b[0mloop\u001b[0m\u001b[0;34m.\u001b[0m\u001b[0mclose\u001b[0m\u001b[0;34m(\u001b[0m\u001b[0;34m)\u001b[0m\u001b[0;34m\u001b[0m\u001b[0m\n\u001b[1;32m     15\u001b[0m     \u001b[0;32mif\u001b[0m \u001b[0mloop\u001b[0m\u001b[0;34m.\u001b[0m\u001b[0mis_closed\u001b[0m\u001b[0;34m(\u001b[0m\u001b[0;34m)\u001b[0m\u001b[0;34m:\u001b[0m\u001b[0;34m\u001b[0m\u001b[0m\n",
      "\u001b[0;32m/usr/local/lib/python3.6/asyncio/base_events.py\u001b[0m in \u001b[0;36mrun_until_complete\u001b[0;34m(self, future)\u001b[0m\n\u001b[1;32m    441\u001b[0m         \u001b[0mReturn\u001b[0m \u001b[0mthe\u001b[0m \u001b[0mFuture\u001b[0m\u001b[0;31m'\u001b[0m\u001b[0ms\u001b[0m \u001b[0mresult\u001b[0m\u001b[0;34m,\u001b[0m \u001b[0;32mor\u001b[0m \u001b[0;32mraise\u001b[0m \u001b[0mits\u001b[0m \u001b[0mexception\u001b[0m\u001b[0;34m.\u001b[0m\u001b[0;34m\u001b[0m\u001b[0m\n\u001b[1;32m    442\u001b[0m         \"\"\"\n\u001b[0;32m--> 443\u001b[0;31m         \u001b[0mself\u001b[0m\u001b[0;34m.\u001b[0m\u001b[0m_check_closed\u001b[0m\u001b[0;34m(\u001b[0m\u001b[0;34m)\u001b[0m\u001b[0;34m\u001b[0m\u001b[0m\n\u001b[0m\u001b[1;32m    444\u001b[0m \u001b[0;34m\u001b[0m\u001b[0m\n\u001b[1;32m    445\u001b[0m         \u001b[0mnew_task\u001b[0m \u001b[0;34m=\u001b[0m \u001b[0;32mnot\u001b[0m \u001b[0mfutures\u001b[0m\u001b[0;34m.\u001b[0m\u001b[0misfuture\u001b[0m\u001b[0;34m(\u001b[0m\u001b[0mfuture\u001b[0m\u001b[0;34m)\u001b[0m\u001b[0;34m\u001b[0m\u001b[0m\n",
      "\u001b[0;32m/usr/local/lib/python3.6/asyncio/base_events.py\u001b[0m in \u001b[0;36m_check_closed\u001b[0;34m(self)\u001b[0m\n\u001b[1;32m    355\u001b[0m     \u001b[0;32mdef\u001b[0m \u001b[0m_check_closed\u001b[0m\u001b[0;34m(\u001b[0m\u001b[0mself\u001b[0m\u001b[0;34m)\u001b[0m\u001b[0;34m:\u001b[0m\u001b[0;34m\u001b[0m\u001b[0m\n\u001b[1;32m    356\u001b[0m         \u001b[0;32mif\u001b[0m \u001b[0mself\u001b[0m\u001b[0;34m.\u001b[0m\u001b[0m_closed\u001b[0m\u001b[0;34m:\u001b[0m\u001b[0;34m\u001b[0m\u001b[0m\n\u001b[0;32m--> 357\u001b[0;31m             \u001b[0;32mraise\u001b[0m \u001b[0mRuntimeError\u001b[0m\u001b[0;34m(\u001b[0m\u001b[0;34m'Event loop is closed'\u001b[0m\u001b[0;34m)\u001b[0m\u001b[0;34m\u001b[0m\u001b[0m\n\u001b[0m\u001b[1;32m    358\u001b[0m \u001b[0;34m\u001b[0m\u001b[0m\n\u001b[1;32m    359\u001b[0m     \u001b[0;32mdef\u001b[0m \u001b[0m_asyncgen_finalizer_hook\u001b[0m\u001b[0;34m(\u001b[0m\u001b[0mself\u001b[0m\u001b[0;34m,\u001b[0m \u001b[0magen\u001b[0m\u001b[0;34m)\u001b[0m\u001b[0;34m:\u001b[0m\u001b[0;34m\u001b[0m\u001b[0m\n",
      "\u001b[0;31mRuntimeError\u001b[0m: Event loop is closed"
     ]
    }
   ],
   "source": [
    "import orm\n",
    "import sys\n",
    "import orm,asyncio\n",
    "from models import User,Blog,Comment\n",
    "\n",
    "def test(loop):\n",
    "    yield from orm.create_pool(loop=loop,user='www-data',password='www-data',database='awesome')\n",
    "    u=User(name='Test',email='test@example.com',passwd='123456',image='about:blank')\n",
    "    yield from u.save()\n",
    "    yield from orm.destory_pool()\n",
    "if __name__=='__main__':\n",
    "    loop=asyncio.get_event_loop()\n",
    "    loop.run_until_complete(asyncio.wait([test(loop)]))\n",
    "    loop.close()\n",
    "    if loop.is_closed():\n",
    "        sys.exit(0)"
   ]
  },
  {
   "cell_type": "code",
   "execution_count": null,
   "metadata": {
    "scrolled": false
   },
   "outputs": [
    {
     "name": "stdout",
     "output_type": "stream",
     "text": [
      "INFO:root:create database connection pool...\n",
      "INFO:root:init jinja2...\n",
      "INFO:root:set jinja2 template path: /home/frank/Documents/webapp-python3/www/templates\n",
      "INFO:root:found model: User :\n",
      "INFO:root:  found mapping: id ==> <orm.StringField object at 0x7f446de80b70>\n",
      "INFO:root:  found mapping: email ==> <orm.StringField object at 0x7f446de80ba8>\n",
      "INFO:root:  found mapping: password ==> <orm.StringField object at 0x7f446de80be0>\n",
      "INFO:root:  found mapping: admin ==> <orm.BooleanField object at 0x7f446de80c18>\n",
      "INFO:root:  found mapping: name ==> <orm.StringField object at 0x7f446de80c50>\n",
      "INFO:root:  found mapping: image ==> <orm.StringField object at 0x7f446de80c88>\n",
      "INFO:root:  found mapping: created_at ==> <orm.FloatField object at 0x7f446de80cc0>\n",
      "INFO:root:found model: Blog :\n",
      "INFO:root:  found mapping: id ==> <orm.StringField object at 0x7f446de80dd8>\n",
      "INFO:root:  found mapping: user_id ==> <orm.StringField object at 0x7f446de80e10>\n",
      "INFO:root:  found mapping: user_name ==> <orm.StringField object at 0x7f446de80e48>\n",
      "INFO:root:  found mapping: user_image ==> <orm.StringField object at 0x7f446de80e80>\n",
      "INFO:root:  found mapping: name ==> <orm.StringField object at 0x7f446de80d68>\n",
      "INFO:root:  found mapping: summary ==> <orm.StringField object at 0x7f446de80da0>\n",
      "INFO:root:  found mapping: content ==> <orm.TextField object at 0x7f446de80ef0>\n",
      "INFO:root:  found mapping: created_at ==> <orm.FloatField object at 0x7f446de80f28>\n",
      "INFO:root:found model: Comment :\n",
      "INFO:root:  found mapping: id ==> <orm.StringField object at 0x7f446de80f98>\n",
      "INFO:root:  found mapping: blog_id ==> <orm.StringField object at 0x7f446de80f60>\n",
      "INFO:root:  found mapping: user_id ==> <orm.StringField object at 0x7f446de80fd0>\n",
      "INFO:root:  found mapping: user_name ==> <orm.StringField object at 0x7f446de93080>\n",
      "INFO:root:  found mapping: user_image ==> <orm.StringField object at 0x7f446de930b8>\n",
      "INFO:root:  found mapping: content ==> <orm.TextField object at 0x7f446de930f0>\n",
      "INFO:root:  found mapping: created_at ==> <orm.FloatField object at 0x7f446de93128>\n",
      "INFO:root:add route GET / => index(request)\n",
      "INFO:root:add static /static/ => /home/frank/Documents/webapp-python3/www/static\n",
      "INFO:root:server started at http://127.0.0.1:9000 \n",
      "INFO:root:Request: GET /\n",
      "INFO:root:Response handler...\n",
      "INFO:root:call with args: {'request': <Request GET / >}\n",
      "INFO:aiohttp.access:127.0.0.1 - - [16/Jun/2018:12:23:15 +0000] \"GET / HTTP/1.1\" 200 3549 \"-\" \"Mozilla/5.0 (X11; Linux x86_64; rv:52.0) Gecko/20100101 Firefox/52.0\"\n",
      "INFO:root:Request: GET /static/css/awesome.css\n",
      "INFO:root:Response handler...\n",
      "INFO:aiohttp.access:127.0.0.1 - - [16/Jun/2018:12:23:15 +0000] \"GET /static/css/awesome.css HTTP/1.1\" 404 172 \"-\" \"Mozilla/5.0 (X11; Linux x86_64; rv:52.0) Gecko/20100101 Firefox/52.0\"\n",
      "INFO:root:Request: GET /static/js/jquery.min.js\n",
      "INFO:root:Response handler...\n",
      "INFO:aiohttp.access:127.0.0.1 - - [16/Jun/2018:12:23:15 +0000] \"GET /static/js/jquery.min.js HTTP/1.1\" 304 140 \"-\" \"Mozilla/5.0 (X11; Linux x86_64; rv:52.0) Gecko/20100101 Firefox/52.0\"\n",
      "INFO:root:Request: GET /static/js/sha1.min.js\n",
      "INFO:root:Response handler...\n",
      "INFO:aiohttp.access:127.0.0.1 - - [16/Jun/2018:12:23:15 +0000] \"GET /static/js/sha1.min.js HTTP/1.1\" 304 140 \"-\" \"Mozilla/5.0 (X11; Linux x86_64; rv:52.0) Gecko/20100101 Firefox/52.0\"\n",
      "INFO:root:Request: GET /static/js/sticky.min.js\n",
      "INFO:root:Response handler...\n",
      "INFO:aiohttp.access:127.0.0.1 - - [16/Jun/2018:12:23:15 +0000] \"GET /static/js/sticky.min.js HTTP/1.1\" 304 140 \"-\" \"Mozilla/5.0 (X11; Linux x86_64; rv:52.0) Gecko/20100101 Firefox/52.0\"\n",
      "INFO:root:Request: GET /static/js/vue.min.js\n",
      "INFO:root:Response handler...\n",
      "INFO:aiohttp.access:127.0.0.1 - - [16/Jun/2018:12:23:15 +0000] \"GET /static/js/vue.min.js HTTP/1.1\" 304 140 \"-\" \"Mozilla/5.0 (X11; Linux x86_64; rv:52.0) Gecko/20100101 Firefox/52.0\"\n",
      "INFO:root:Request: GET /static/js/awesome.js\n",
      "INFO:root:Response handler...\n",
      "INFO:aiohttp.access:127.0.0.1 - - [16/Jun/2018:12:23:15 +0000] \"GET /static/js/awesome.js HTTP/1.1\" 404 172 \"-\" \"Mozilla/5.0 (X11; Linux x86_64; rv:52.0) Gecko/20100101 Firefox/52.0\"\n",
      "INFO:root:Request: GET /static/js/awesome.js\n",
      "INFO:root:Response handler...\n",
      "INFO:aiohttp.access:127.0.0.1 - - [16/Jun/2018:12:23:15 +0000] \"GET /static/js/awesome.js HTTP/1.1\" 404 172 \"-\" \"Mozilla/5.0 (X11; Linux x86_64; rv:52.0) Gecko/20100101 Firefox/52.0\"\n"
     ]
    }
   ],
   "source": [
    "!python app.py\n"
   ]
  },
  {
   "cell_type": "code",
   "execution_count": null,
   "metadata": {},
   "outputs": [],
   "source": []
  },
  {
   "cell_type": "code",
   "execution_count": null,
   "metadata": {},
   "outputs": [],
   "source": []
  }
 ],
 "metadata": {
  "kernelspec": {
   "display_name": "Python 2",
   "language": "python",
   "name": "python2"
  },
  "language_info": {
   "codemirror_mode": {
    "name": "ipython",
    "version": 3
   },
   "file_extension": ".py",
   "mimetype": "text/x-python",
   "name": "python",
   "nbconvert_exporter": "python",
   "pygments_lexer": "ipython3",
   "version": "3.6.3"
  }
 },
 "nbformat": 4,
 "nbformat_minor": 2
}
